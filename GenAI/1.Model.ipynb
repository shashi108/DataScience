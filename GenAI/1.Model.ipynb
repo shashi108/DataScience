{
 "cells": [
  {
   "cell_type": "code",
   "execution_count": null,
   "id": "a8c79c29",
   "metadata": {},
   "outputs": [],
   "source": [
    "#OpenAI model:gpt\n",
    "import OpenAI\n",
    "import os\n",
    "\n",
    "# Set your OpenAI API key\n",
    "os.environ[\"OPENAI_API_KEY\"] = 'XXXXXXXXXXX'\n",
    "\n",
    "# Initialize the OpenAI model\n",
    "llm = OpenAI(temperature=0.3, model='gpt-4.0-mini')\n",
    "\n",
    "# Define the input text\n",
    "text = \"What is the capital of India?\"\n",
    "\n",
    "# Get the output\n",
    "output = llm(text)\n",
    "print(output)\n"
   ]
  },
  {
   "cell_type": "code",
   "execution_count": 2,
   "id": "1f4027ef",
   "metadata": {},
   "outputs": [
    {
     "name": "stdout",
     "output_type": "stream",
     "text": [
      "The capital of India is New Delhi.\n"
     ]
    }
   ],
   "source": [
    "#Ollama model\n",
    "from langchain_community.llms import Ollama\n",
    "llm = Ollama(model=\"llama3.2\")\n",
    "# Define the text for prediction\n",
    "text=\"What is the capital of India\"\n",
    "# Predicting with model\n",
    "print(llm.predict(text))"
   ]
  },
  {
   "cell_type": "code",
   "execution_count": 21,
   "id": "427ce611",
   "metadata": {},
   "outputs": [
    {
     "data": {
      "application/vnd.jupyter.widget-view+json": {
       "model_id": "46ed06ef26ed4d158bacc0b6f3873c80",
       "version_major": 2,
       "version_minor": 0
      },
      "text/plain": [
       "Fetching 1 files:   0%|          | 0/1 [00:00<?, ?it/s]"
      ]
     },
     "metadata": {},
     "output_type": "display_data"
    },
    {
     "data": {
      "application/vnd.jupyter.widget-view+json": {
       "model_id": "14e00bb5c8754d968190ca5e90e80e8a",
       "version_major": 2,
       "version_minor": 0
      },
      "text/plain": [
       "Fetching 1 files:   0%|          | 0/1 [00:00<?, ?it/s]"
      ]
     },
     "metadata": {},
     "output_type": "display_data"
    },
    {
     "name": "stdout",
     "output_type": "stream",
     "text": [
      "?\n",
      "The capital of India is New Delhi.\n"
     ]
    }
   ],
   "source": [
    "# Importing C Transformers class from LangChain\n",
    "from langchain_community.llms import CTransformers\n",
    "# Initialize LLM from C Transformers\n",
    "llm = CTransformers(model=\"TheBloke/Falcon-7B-Instruct-GGML\", model_type=\"falcon\")\n",
    "# Define the text for prediction\n",
    "text=\"What is the capital of India\"\n",
    "# Predicting with model\n",
    "print(llm.predict(text))"
   ]
  },
  {
   "cell_type": "code",
   "execution_count": 37,
   "id": "b271674b",
   "metadata": {},
   "outputs": [
    {
     "data": {
      "application/vnd.jupyter.widget-view+json": {
       "model_id": "ccbba1fbf02748ff9b5c1dfe3f2863ff",
       "version_major": 2,
       "version_minor": 0
      },
      "text/plain": [
       "Fetching 1 files:   0%|          | 0/1 [00:00<?, ?it/s]"
      ]
     },
     "metadata": {},
     "output_type": "display_data"
    },
    {
     "data": {
      "application/vnd.jupyter.widget-view+json": {
       "model_id": "d71411ac45354d73824ba95cf8619489",
       "version_major": 2,
       "version_minor": 0
      },
      "text/plain": [
       "Fetching 1 files:   0%|          | 0/1 [00:00<?, ?it/s]"
      ]
     },
     "metadata": {},
     "output_type": "display_data"
    },
    {
     "name": "stdout",
     "output_type": "stream",
     "text": [
      "?\n",
      " Unterscheidung between the terms \"capital\" and \"Delhi\"\n",
      "\n",
      "New Delhi, a union territory in northern India, serves as the country's capital. It comprises several districts, including Old Delhi, New Delhi, and Delhi Cantonment, among others. The term \"Delhi\" refers to the city proper, while \"capital of India\" refers to the administrative division that houses the country's government and political institutions.\n",
      "Contrary to common misconceptions, Delhi is not the capital of India. New Delhi, a union territory, serves as the country's capital. The term \"Delhi\" refers to the city proper, while \"capital of India\" refers to the administrative division that houses the country's government and political institutions.\n",
      "New Delhi was formed in 1927 from the merger of several provinces, including Delhi Province and Punjab Province. It has since served as the capital of independent India and has undergone numerous changes and expansions to accommodate the country's growing population and political needs.\n",
      "The term \"Delhi\" is often used interchangeably with \"India,\" but they are not the same\n"
     ]
    }
   ],
   "source": [
    "# Importing C Transformers class from LangChain\n",
    "from langchain_community.llms import CTransformers\n",
    "# Initialize LLM from C Transformers\n",
    "llm = CTransformers(model=\"TheBloke/Llama-2-7B-Chat-GGUF\", model_type=\"llama\")\n",
    "# Define the text for prediction\n",
    "text=\"What is the capital of India\"\n",
    "# Predicting with model\n",
    "print(llm.predict(text))"
   ]
  },
  {
   "cell_type": "code",
   "execution_count": 26,
   "id": "2c035a62",
   "metadata": {},
   "outputs": [
    {
     "name": "stdout",
     "output_type": "stream",
     "text": [
      "What is the capital of India?\"\n",
      "\n",
      "\"Delhi.\"\n",
      "\n",
      "\"Delhi\n"
     ]
    }
   ],
   "source": [
    "from langchain_community.llms.huggingface_pipeline import HuggingFacePipeline\n",
    "# Initialize HuggingFacePipeline model with specific settings\n",
    "llm_huggingface = HuggingFacePipeline.from_model_id(\n",
    "                  model_id=\"bigscience/bloom-1b7\",\n",
    "                  task=\"text-generation\",\n",
    "                  pipeline_kwargs={\"max_new_tokens\": 10})\n",
    "\n",
    "# Querying Huggingface model for prediction\n",
    "text=\"What is the capital of India\"\n",
    "print(llm_huggingface.predict(text))"
   ]
  }
 ],
 "metadata": {
  "kernelspec": {
   "display_name": "Python 3 (ipykernel)",
   "language": "python",
   "name": "python3"
  },
  "language_info": {
   "codemirror_mode": {
    "name": "ipython",
    "version": 3
   },
   "file_extension": ".py",
   "mimetype": "text/x-python",
   "name": "python",
   "nbconvert_exporter": "python",
   "pygments_lexer": "ipython3",
   "version": "3.11.5"
  }
 },
 "nbformat": 4,
 "nbformat_minor": 5
}
